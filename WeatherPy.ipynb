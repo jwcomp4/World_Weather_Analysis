{
 "cells": [
  {
   "cell_type": "code",
   "execution_count": 1,
   "id": "0138db09",
   "metadata": {},
   "outputs": [],
   "source": [
    "import pandas as pd\n",
    "\n",
    "import matplotlib.pyplot as plt\n",
    "\n",
    "import numpy as np\n",
    "\n",
    "from citipy import citipy"
   ]
  },
  {
   "cell_type": "code",
   "execution_count": 2,
   "id": "61bb9d97",
   "metadata": {},
   "outputs": [
    {
     "data": {
      "text/plain": [
       "<zip at 0x7ff4145b6a00>"
      ]
     },
     "execution_count": 2,
     "metadata": {},
     "output_type": "execute_result"
    }
   ],
   "source": [
    "# generating the random latitude and longitude arrays\n",
    "# storing them in variables\n",
    "# packing the latitude and longitude values as pairs using the zip function\n",
    "\n",
    "lats = np.random.uniform(-90.000, 90.000, size=1500)\n",
    "\n",
    "lngs = np.random.uniform(-180.000, 180.000, size=1500)\n",
    "\n",
    "lats_lngs = zip(lats, lngs)\n",
    "\n",
    "lats_lngs\n",
    "\n",
    "# The output of this cell will be a zip object in memory"
   ]
  },
  {
   "cell_type": "markdown",
   "id": "987551a0",
   "metadata": {},
   "source": [
    "# Notes on above code block\n",
    "\n",
    "- The zip function packs each pair of lats and lngs with the same index into a tuple\n",
    "    - Here, that produces 1500 tuples of paired latitudes and longitues \n",
    "        - each latitude and longitude in a tuple can be accessed by the index of 0 and 1 respectively\n",
    "    - cf the jupyter notebook API_Practice.ipynb for practice packing and unpacking zipped tuples"
   ]
  },
  {
   "cell_type": "code",
   "execution_count": 3,
   "id": "223152d8",
   "metadata": {},
   "outputs": [],
   "source": [
    "# adding the latitude and longitudes to a list\n",
    "# means we only need to create the random sets once\n",
    "# NOTE you can only unzup a zipped tuple once before it's removed from computer's memory.\n",
    "\n",
    "coordinates = list(lats_lngs)"
   ]
  },
  {
   "cell_type": "code",
   "execution_count": 5,
   "id": "ed99d3aa",
   "metadata": {},
   "outputs": [
    {
     "name": "stdout",
     "output_type": "stream",
     "text": [
      "622\n"
     ]
    }
   ],
   "source": [
    "# creating an empty list to hold the cities\n",
    "\n",
    "cities = []\n",
    "\n",
    "# identifying nearest city for each latitude and longitude combination\n",
    "\n",
    "for coordinate in coordinates:\n",
    "    city = citipy.nearest_city(coordinate[0], coordinate[1]).city_name\n",
    "    \n",
    "    # if the city name is unique, add to the cities []\n",
    "    # The for-loop could find duplicate cities, and we only want unique cities\n",
    "    \n",
    "    if city not in cities:\n",
    "        cities.append(city)\n",
    "        \n",
    "# print the city count to confirm sufficient count:\n",
    "# Note that citipy finds the nearest city to the latitude and longitude pair with a population of 500+\n",
    "\n",
    "print(len(cities))"
   ]
  },
  {
   "cell_type": "code",
   "execution_count": null,
   "id": "f3f448b0",
   "metadata": {},
   "outputs": [],
   "source": []
  }
 ],
 "metadata": {
  "kernelspec": {
   "display_name": "PythonData",
   "language": "python",
   "name": "pythondata"
  },
  "language_info": {
   "codemirror_mode": {
    "name": "ipython",
    "version": 3
   },
   "file_extension": ".py",
   "mimetype": "text/x-python",
   "name": "python",
   "nbconvert_exporter": "python",
   "pygments_lexer": "ipython3",
   "version": "3.7.13"
  }
 },
 "nbformat": 4,
 "nbformat_minor": 5
}
